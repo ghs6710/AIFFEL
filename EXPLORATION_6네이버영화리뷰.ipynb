{
 "cells": [
  {
   "cell_type": "code",
   "execution_count": 1,
   "id": "1cc3d04e",
   "metadata": {
    "scrolled": true
   },
   "outputs": [
    {
     "name": "stdout",
     "output_type": "stream",
     "text": [
      "ln: failed to create symbolic link '/aiffel/aiffel/sentiment_classification/data/ratings_test.txt': File exists\r\n",
      "ln: failed to create symbolic link '/aiffel/aiffel/sentiment_classification/data/ratings_train.txt': File exists\r\n"
     ]
    }
   ],
   "source": [
    "! ln -s ~/data/*.txt ~/aiffel/sentiment_classification/data"
   ]
  },
  {
   "cell_type": "code",
   "execution_count": 2,
   "id": "f9493205",
   "metadata": {},
   "outputs": [],
   "source": [
    "import pandas as pd\n",
    "import urllib.request\n",
    "%matplotlib inline\n",
    "import matplotlib.pyplot as plt\n",
    "import re\n",
    "import tensorflow as tf\n",
    "from konlpy.tag import Okt\n",
    "from tensorflow import keras\n",
    "from tensorflow.keras.preprocessing.text import Tokenizer\n",
    "import numpy as np\n",
    "from tensorflow.keras.preprocessing.sequence import pad_sequences\n",
    "from collections import Counter\n",
    "import os"
   ]
  },
  {
   "cell_type": "code",
   "execution_count": 3,
   "id": "1ae243b7",
   "metadata": {},
   "outputs": [
    {
     "data": {
      "text/html": [
       "<div>\n",
       "<style scoped>\n",
       "    .dataframe tbody tr th:only-of-type {\n",
       "        vertical-align: middle;\n",
       "    }\n",
       "\n",
       "    .dataframe tbody tr th {\n",
       "        vertical-align: top;\n",
       "    }\n",
       "\n",
       "    .dataframe thead th {\n",
       "        text-align: right;\n",
       "    }\n",
       "</style>\n",
       "<table border=\"1\" class=\"dataframe\">\n",
       "  <thead>\n",
       "    <tr style=\"text-align: right;\">\n",
       "      <th></th>\n",
       "      <th>id</th>\n",
       "      <th>document</th>\n",
       "      <th>label</th>\n",
       "    </tr>\n",
       "  </thead>\n",
       "  <tbody>\n",
       "    <tr>\n",
       "      <th>0</th>\n",
       "      <td>9976970</td>\n",
       "      <td>아 더빙.. 진짜 짜증나네요 목소리</td>\n",
       "      <td>0</td>\n",
       "    </tr>\n",
       "    <tr>\n",
       "      <th>1</th>\n",
       "      <td>3819312</td>\n",
       "      <td>흠...포스터보고 초딩영화줄....오버연기조차 가볍지 않구나</td>\n",
       "      <td>1</td>\n",
       "    </tr>\n",
       "    <tr>\n",
       "      <th>2</th>\n",
       "      <td>10265843</td>\n",
       "      <td>너무재밓었다그래서보는것을추천한다</td>\n",
       "      <td>0</td>\n",
       "    </tr>\n",
       "    <tr>\n",
       "      <th>3</th>\n",
       "      <td>9045019</td>\n",
       "      <td>교도소 이야기구먼 ..솔직히 재미는 없다..평점 조정</td>\n",
       "      <td>0</td>\n",
       "    </tr>\n",
       "    <tr>\n",
       "      <th>4</th>\n",
       "      <td>6483659</td>\n",
       "      <td>사이몬페그의 익살스런 연기가 돋보였던 영화!스파이더맨에서 늙어보이기만 했던 커스틴 ...</td>\n",
       "      <td>1</td>\n",
       "    </tr>\n",
       "  </tbody>\n",
       "</table>\n",
       "</div>"
      ],
      "text/plain": [
       "         id                                           document  label\n",
       "0   9976970                                아 더빙.. 진짜 짜증나네요 목소리      0\n",
       "1   3819312                  흠...포스터보고 초딩영화줄....오버연기조차 가볍지 않구나      1\n",
       "2  10265843                                  너무재밓었다그래서보는것을추천한다      0\n",
       "3   9045019                      교도소 이야기구먼 ..솔직히 재미는 없다..평점 조정      0\n",
       "4   6483659  사이몬페그의 익살스런 연기가 돋보였던 영화!스파이더맨에서 늙어보이기만 했던 커스틴 ...      1"
      ]
     },
     "execution_count": 3,
     "metadata": {},
     "output_type": "execute_result"
    }
   ],
   "source": [
    "# 데이터 읽기\n",
    "train_data = pd.read_table('~/aiffel/sentiment_classification/data/ratings_train.txt')\n",
    "test_data = pd.read_table('~/aiffel/sentiment_classification/data/ratings_test.txt')\n",
    "train_data.head()"
   ]
  },
  {
   "cell_type": "code",
   "execution_count": 4,
   "id": "5747896b",
   "metadata": {},
   "outputs": [],
   "source": [
    "from konlpy.tag import Mecab\n",
    "tokenizer = Mecab()\n",
    "stopwords = ['의','가','이','은','들','는','좀','잘','걍','과','도','를','으로','자','에','와','한','하다']\n",
    "\n",
    "# load_data 함수\n",
    "def load_data(train_data, test_data, num_words=10000):\n",
    "    train_data.drop_duplicates(subset=['document'], inplace=True)\n",
    "    train_data = train_data.dropna(how = 'any') \n",
    "    test_data.drop_duplicates(subset=['document'], inplace=True)\n",
    "    test_data = test_data.dropna(how = 'any') \n",
    "\n",
    "    x_train = []\n",
    "    for sentence in train_data['document']:\n",
    "        temp_x = tokenizer.morphs(sentence) # 토큰화\n",
    "        temp_x = [word for word in temp_x if word not in stopwords] # 불용어 제거\n",
    "        x_train.append(temp_x)\n",
    "\n",
    "    x_test = []\n",
    "    for sentence in test_data['document']:\n",
    "        temp_x = tokenizer.morphs(sentence) # 토큰화\n",
    "        temp_x = [word for word in temp_x if word not in stopwords] # 불용어 제거\n",
    "        x_test.append(temp_x)\n",
    "\n",
    "    words = np.concatenate(x_train).tolist()\n",
    "    counter = Counter(words)\n",
    "    counter = counter.most_common(10000-4)\n",
    "    vocab = ['<PAD>', '<BOS>', '<UNK>', '<UNUSED>'] + [key for key, _ in counter]\n",
    "    word_to_index = {word:index for index, word in enumerate(vocab)}\n",
    "\n",
    "    def wordlist_to_indexlist(wordlist):\n",
    "        return [word_to_index[word] if word in word_to_index else word_to_index['<UNK>'] for word in wordlist]\n",
    "\n",
    "    x_train = list(map(wordlist_to_indexlist, x_train))\n",
    "    x_test = list(map(wordlist_to_indexlist, x_test))\n",
    "\n",
    "    return x_train, np.array(list(train_data['label'])), x_test, np.array(list(test_data['label'])), word_to_index\n",
    "\n",
    "x_train, y_train, x_test, y_test, word_to_index = load_data(train_data, test_data)\n",
    "\n",
    "index_to_word = {index:word for word, index in word_to_index.items()}\n",
    "\n"
   ]
  },
  {
   "cell_type": "code",
   "execution_count": 5,
   "id": "8b3faa40",
   "metadata": {
    "scrolled": true
   },
   "outputs": [
    {
     "name": "stdout",
     "output_type": "stream",
     "text": [
      "훈련 샘플 개수: 146182, 테스트 개수: 49157\n"
     ]
    }
   ],
   "source": [
    "# 문장 1개를 활용할 딕셔너리와 함께 주면, 단어 인덱스 리스트 벡터로 변환해 주는 함수\n",
    "# 단, 모든 문장은 <BOS>로 시작\n",
    "def get_encoded_sentence(sentence, word_to_index):\n",
    "    return [word_to_index['<BOS>']]+[word_to_index[word] if word in word_to_index else word_to_index['<UNK>'] for word in sentence.split()]\n",
    "\n",
    "# 여러 개의 문장 리스트를 한꺼번에 단어 인덱스 리스트 벡터로 encode해 주는 함수 \n",
    "def get_encoded_sentences(sentences, word_to_index):\n",
    "    return [get_encoded_sentence(sentence, word_to_index) for sentence in sentences]\n",
    "\n",
    "# 숫자 벡터로 encode된 문장을 원래대로 decode하는 함수\n",
    "def get_decoded_sentence(encoded_sentence, index_to_word):\n",
    "    return ' '.join(index_to_word[index] if index in index_to_word else '<UNK>' for index in encoded_sentence[1:])  #[1:]를 통해 <BOS>를 제외\n",
    "\n",
    "# 여러개의 숫자 벡터로 encode된 문장을 한꺼번에 원래대로 decode하는 함수\n",
    "def get_decoded_sentences(encoded_sentences, index_to_word):\n",
    "    return [get_decoded_sentence(encoded_sentence, index_to_word) for encoded_sentence in encoded_sentences]\n",
    "\n",
    "print(\"훈련 샘플 개수: {}, 테스트 개수: {}\".format(len(x_train), len(x_test)))"
   ]
  },
  {
   "cell_type": "code",
   "execution_count": 6,
   "id": "5d14f6d0",
   "metadata": {
    "scrolled": true
   },
   "outputs": [
    {
     "name": "stdout",
     "output_type": "stream",
     "text": [
      "더 빙 . . 진짜 짜증 나 네요 목소리\n",
      "라벨:  0\n",
      "문장길이 평균 :  15.96940191154864\n",
      "문장길이 최대 :  116\n",
      "문장길이 표준편차 :  12.843571191092\n"
     ]
    },
    {
     "data": {
      "image/png": "[encoded data removed]",
      "text/plain": [
       "<Figure size 432x288 with 1 Axes>"
      ]
     },
     "metadata": {
      "needs_background": "light"
     },
     "output_type": "display_data"
    }
   ],
   "source": [
    "# decoding\n",
    "print(get_decoded_sentence(x_train[0], index_to_word))\n",
    "print('라벨: ', y_train[0])  # 1번째 리뷰데이터의 라벨\n",
    "\n",
    "# 텍스트데이터 문장길이의 리스트를 생성한 후\n",
    "total_data_text = list(x_train) + list(x_test)\n",
    "\n",
    "# 문장길이의 평균값, 최대값, 표준편차를 계산\n",
    "num_tokens = [len(tokens) for tokens in total_data_text]\n",
    "num_tokens = np.array(num_tokens)\n",
    "\n",
    "print('문장길이 평균 : ', np.mean(num_tokens))\n",
    "print('문장길이 최대 : ', np.max(num_tokens))\n",
    "print('문장길이 표준편차 : ', np.std(num_tokens))\n",
    "plt.clf()\n",
    "\n",
    "plt.hist([len(s) for s in total_data_text], bins=100)\n",
    "plt.xlabel('length of samples')\n",
    "plt.ylabel('number of samples')\n",
    "plt.show()"
   ]
  },
  {
   "cell_type": "code",
   "execution_count": 7,
   "id": "d5ec5f74",
   "metadata": {},
   "outputs": [
    {
     "name": "stdout",
     "output_type": "stream",
     "text": [
      "pad_sequences maxlen :  41\n",
      "전체 문장의 0.9342988343341575%가 maxlen 설정값 이내에 포함됩니다. \n"
     ]
    }
   ],
   "source": [
    "# 예를들어, 최대 길이를 (평균 + 2*표준편차)로 가정\n",
    "max_tokens = np.mean(num_tokens) + 2 * np.std(num_tokens)\n",
    "maxlen = int(max_tokens)\n",
    "print('pad_sequences maxlen : ', maxlen)\n",
    "print('전체 문장의 {}%가 maxlen 설정값 이내에 포함됩니다. '.format(np.sum(num_tokens < max_tokens) / len(num_tokens)))\n"
   ]
  },
  {
   "cell_type": "code",
   "execution_count": 8,
   "id": "9f75fc71",
   "metadata": {},
   "outputs": [
    {
     "name": "stdout",
     "output_type": "stream",
     "text": [
      "(146182, 41)\n"
     ]
    }
   ],
   "source": [
    "# padding\n",
    "x_train = keras.preprocessing.sequence.pad_sequences(x_train,\n",
    "                                                     value=word_to_index[\"<PAD>\"],\n",
    "                                                     padding='pre', # 혹은 'pre'\n",
    "                                                     maxlen=maxlen)\n",
    "\n",
    "x_test = keras.preprocessing.sequence.pad_sequences(x_test,\n",
    "                                                    value=word_to_index[\"<PAD>\"],\n",
    "                                                    padding='pre', # 혹은 'pre'\n",
    "                                                    maxlen=maxlen)\n",
    "\n",
    "print(x_train.shape)"
   ]
  },
  {
   "cell_type": "markdown",
   "id": "518cafab",
   "metadata": {},
   "source": [
    "# RNN"
   ]
  },
  {
   "cell_type": "code",
   "execution_count": 9,
   "id": "1fe065e9",
   "metadata": {},
   "outputs": [],
   "source": [
    "#모델 설계\n",
    "vocab_size = len(index_to_word)\n",
    "word_vector_dim = 300  # 워드 벡터의 차원수 (변경가능한 하이퍼파라미터)"
   ]
  },
  {
   "cell_type": "code",
   "execution_count": 10,
   "id": "0b13a367",
   "metadata": {
    "scrolled": true
   },
   "outputs": [
    {
     "name": "stdout",
     "output_type": "stream",
     "text": [
      "Model: \"sequential\"\n",
      "_________________________________________________________________\n",
      "Layer (type)                 Output Shape              Param #   \n",
      "=================================================================\n",
      "embedding (Embedding)        (None, None, 300)         3000000   \n",
      "_________________________________________________________________\n",
      "lstm (LSTM)                  (None, 8)                 9888      \n",
      "_________________________________________________________________\n",
      "dense (Dense)                (None, 8)                 72        \n",
      "_________________________________________________________________\n",
      "dense_1 (Dense)              (None, 1)                 9         \n",
      "=================================================================\n",
      "Total params: 3,009,969\n",
      "Trainable params: 3,009,969\n",
      "Non-trainable params: 0\n",
      "_________________________________________________________________\n"
     ]
    }
   ],
   "source": [
    "RNN_model = tf.keras.Sequential()\n",
    "RNN_model.add(tf.keras.layers.Embedding(vocab_size, word_vector_dim, input_shape=(None,)))\n",
    "RNN_model.add(tf.keras.layers.LSTM(8))\n",
    "# 가장 널리 쓰이는 RNN인 LSTM 레이어를 사용하였습니다. \n",
    "# 이때 LSTM state 벡터의 차원수는 8로 하였습니다. (변경 가능)\n",
    "RNN_model.add(tf.keras.layers.Dense(8, activation='relu'))\n",
    "RNN_model.add(tf.keras.layers.Dense(1, activation='sigmoid'))\n",
    "# # 최종 출력은 긍정/부정을 나타내는 1dim 입니다.\n",
    "RNN_model.summary()"
   ]
  },
  {
   "cell_type": "markdown",
   "id": "6f78aeff",
   "metadata": {},
   "source": [
    "# CNN"
   ]
  },
  {
   "cell_type": "code",
   "execution_count": 11,
   "id": "babdabec",
   "metadata": {},
   "outputs": [
    {
     "name": "stdout",
     "output_type": "stream",
     "text": [
      "Model: \"sequential_1\"\n",
      "_________________________________________________________________\n",
      "Layer (type)                 Output Shape              Param #   \n",
      "=================================================================\n",
      "embedding_1 (Embedding)      (None, None, 300)         3000000   \n",
      "_________________________________________________________________\n",
      "conv1d (Conv1D)              (None, None, 16)          33616     \n",
      "_________________________________________________________________\n",
      "max_pooling1d (MaxPooling1D) (None, None, 16)          0         \n",
      "_________________________________________________________________\n",
      "conv1d_1 (Conv1D)            (None, None, 16)          1808      \n",
      "_________________________________________________________________\n",
      "global_max_pooling1d (Global (None, 16)                0         \n",
      "_________________________________________________________________\n",
      "dense_2 (Dense)              (None, 8)                 136       \n",
      "_________________________________________________________________\n",
      "dense_3 (Dense)              (None, 1)                 9         \n",
      "=================================================================\n",
      "Total params: 3,035,569\n",
      "Trainable params: 3,035,569\n",
      "Non-trainable params: 0\n",
      "_________________________________________________________________\n"
     ]
    }
   ],
   "source": [
    "CNN_model = tf.keras.Sequential()\n",
    "CNN_model.add(tf.keras.layers.Embedding(vocab_size, word_vector_dim, input_shape=(None,)))\n",
    "CNN_model.add(tf.keras.layers.Conv1D(16, 7, activation='relu'))\n",
    "CNN_model.add(tf.keras.layers.MaxPooling1D(5))\n",
    "CNN_model.add(tf.keras.layers.Conv1D(16, 7, activation='relu'))\n",
    "CNN_model.add(tf.keras.layers.GlobalMaxPooling1D())\n",
    "CNN_model.add(tf.keras.layers.Dense(8, activation='relu'))\n",
    "CNN_model.add(tf.keras.layers.Dense(1, activation='sigmoid'))  # 최종 출력은 긍정/부정을 나타내는 1dim\n",
    "\n",
    "\n",
    "CNN_model.summary()"
   ]
  },
  {
   "cell_type": "markdown",
   "id": "18e8fa9c",
   "metadata": {},
   "source": [
    "# GlobalMaxPooling1D"
   ]
  },
  {
   "cell_type": "code",
   "execution_count": 12,
   "id": "3233c7f1",
   "metadata": {},
   "outputs": [
    {
     "name": "stdout",
     "output_type": "stream",
     "text": [
      "Model: \"sequential_2\"\n",
      "_________________________________________________________________\n",
      "Layer (type)                 Output Shape              Param #   \n",
      "=================================================================\n",
      "embedding_2 (Embedding)      (None, None, 300)         3000000   \n",
      "_________________________________________________________________\n",
      "global_max_pooling1d_1 (Glob (None, 300)               0         \n",
      "_________________________________________________________________\n",
      "dense_4 (Dense)              (None, 8)                 2408      \n",
      "_________________________________________________________________\n",
      "dense_5 (Dense)              (None, 1)                 9         \n",
      "=================================================================\n",
      "Total params: 3,002,417\n",
      "Trainable params: 3,002,417\n",
      "Non-trainable params: 0\n",
      "_________________________________________________________________\n"
     ]
    }
   ],
   "source": [
    "GMP_model = tf.keras.Sequential()\n",
    "GMP_model.add(tf.keras.layers.Embedding(vocab_size, word_vector_dim, input_shape=(None,)))\n",
    "GMP_model.add(tf.keras.layers.GlobalMaxPooling1D())\n",
    "GMP_model.add(tf.keras.layers.Dense(8, activation='relu'))\n",
    "GMP_model.add(tf.keras.layers.Dense(1, activation='sigmoid'))  # 최종 출력은 긍정/부정을 나타내는 1dim 입니다.\n",
    "\n",
    "GMP_model.summary()"
   ]
  },
  {
   "cell_type": "markdown",
   "id": "b4570a3d",
   "metadata": {},
   "source": [
    "# validation set 20000분리"
   ]
  },
  {
   "cell_type": "code",
   "execution_count": 13,
   "id": "94dc5f90",
   "metadata": {},
   "outputs": [
    {
     "name": "stdout",
     "output_type": "stream",
     "text": [
      "(126182, 41)\n",
      "(126182,)\n"
     ]
    }
   ],
   "source": [
    "# validation set 20000 분리\n",
    "x_val = x_train[:20000]   \n",
    "y_val = y_train[:20000]\n",
    "\n",
    "# validation set을 제외한 나머지 \n",
    "partial_x_train = x_train[20000:]  \n",
    "partial_y_train = y_train[20000:]\n",
    "\n",
    "print(partial_x_train.shape)\n",
    "print(partial_y_train.shape)"
   ]
  },
  {
   "cell_type": "code",
   "execution_count": 14,
   "id": "c19e61d7",
   "metadata": {},
   "outputs": [
    {
     "name": "stdout",
     "output_type": "stream",
     "text": [
      "Epoch 1/10\n",
      "247/247 [==============================] - 5s 9ms/step - loss: 0.4252 - accuracy: 0.8123 - val_loss: 0.3451 - val_accuracy: 0.8539\n",
      "Epoch 2/10\n",
      "247/247 [==============================] - 2s 7ms/step - loss: 0.3161 - accuracy: 0.8667 - val_loss: 0.3293 - val_accuracy: 0.8572\n",
      "Epoch 3/10\n",
      "247/247 [==============================] - 2s 7ms/step - loss: 0.2793 - accuracy: 0.8850 - val_loss: 0.3279 - val_accuracy: 0.8595\n",
      "Epoch 4/10\n",
      "247/247 [==============================] - 2s 7ms/step - loss: 0.2494 - accuracy: 0.8983 - val_loss: 0.3348 - val_accuracy: 0.8600\n",
      "Epoch 5/10\n",
      "247/247 [==============================] - 2s 7ms/step - loss: 0.2229 - accuracy: 0.9103 - val_loss: 0.3525 - val_accuracy: 0.8577\n",
      "Epoch 6/10\n",
      "247/247 [==============================] - 2s 7ms/step - loss: 0.1989 - accuracy: 0.9225 - val_loss: 0.3712 - val_accuracy: 0.8525\n",
      "Epoch 7/10\n",
      "247/247 [==============================] - 2s 7ms/step - loss: 0.1782 - accuracy: 0.9313 - val_loss: 0.4002 - val_accuracy: 0.8522\n",
      "Epoch 8/10\n",
      "247/247 [==============================] - 2s 7ms/step - loss: 0.1602 - accuracy: 0.9403 - val_loss: 0.4226 - val_accuracy: 0.8498\n",
      "Epoch 9/10\n",
      "247/247 [==============================] - 2s 7ms/step - loss: 0.1439 - accuracy: 0.9476 - val_loss: 0.4487 - val_accuracy: 0.8471\n",
      "Epoch 10/10\n",
      "247/247 [==============================] - 2s 7ms/step - loss: 0.1296 - accuracy: 0.9535 - val_loss: 0.4748 - val_accuracy: 0.8463\n",
      "1537/1537 - 3s - loss: 0.4801 - accuracy: 0.8431\n",
      "[0.4800914525985718, 0.8431352376937866]\n"
     ]
    }
   ],
   "source": [
    "# 모델학습하기\n",
    "RNN_model.compile(optimizer='adam',\n",
    "             loss='binary_crossentropy',\n",
    "             metrics=['accuracy'])\n",
    "epochs=10\n",
    "\n",
    "RNN_history = RNN_model.fit(partial_x_train,\n",
    "                   partial_y_train,\n",
    "                   epochs=epochs,\n",
    "                   batch_size=512,\n",
    "                   validation_data=(x_val, y_val),\n",
    "                   verbose=1)\n",
    "# 평가하기\n",
    "results = RNN_model.evaluate(x_test, y_test, verbose=2)\n",
    "\n",
    "print(results)"
   ]
  },
  {
   "cell_type": "code",
   "execution_count": 15,
   "id": "e07ed534",
   "metadata": {
    "scrolled": true
   },
   "outputs": [
    {
     "name": "stdout",
     "output_type": "stream",
     "text": [
      "Epoch 1/10\n",
      "247/247 [==============================] - 4s 10ms/step - loss: 0.4332 - accuracy: 0.7910 - val_loss: 0.3363 - val_accuracy: 0.8540\n",
      "Epoch 2/10\n",
      "247/247 [==============================] - 2s 8ms/step - loss: 0.2934 - accuracy: 0.8772 - val_loss: 0.3343 - val_accuracy: 0.8548\n",
      "Epoch 3/10\n",
      "247/247 [==============================] - 2s 8ms/step - loss: 0.2262 - accuracy: 0.9115 - val_loss: 0.3506 - val_accuracy: 0.8550\n",
      "Epoch 4/10\n",
      "247/247 [==============================] - 2s 8ms/step - loss: 0.1533 - accuracy: 0.9444 - val_loss: 0.4030 - val_accuracy: 0.8493\n",
      "Epoch 5/10\n",
      "247/247 [==============================] - 2s 8ms/step - loss: 0.0949 - accuracy: 0.9688 - val_loss: 0.4811 - val_accuracy: 0.8444\n",
      "Epoch 6/10\n",
      "247/247 [==============================] - 2s 8ms/step - loss: 0.0604 - accuracy: 0.9813 - val_loss: 0.5640 - val_accuracy: 0.8405\n",
      "Epoch 7/10\n",
      "247/247 [==============================] - 2s 8ms/step - loss: 0.0428 - accuracy: 0.9872 - val_loss: 0.6427 - val_accuracy: 0.8386\n",
      "Epoch 8/10\n",
      "247/247 [==============================] - 2s 8ms/step - loss: 0.0327 - accuracy: 0.9903 - val_loss: 0.7058 - val_accuracy: 0.8368\n",
      "Epoch 9/10\n",
      "247/247 [==============================] - 2s 8ms/step - loss: 0.0273 - accuracy: 0.9917 - val_loss: 0.7567 - val_accuracy: 0.8380\n",
      "Epoch 10/10\n",
      "247/247 [==============================] - 2s 8ms/step - loss: 0.0236 - accuracy: 0.9927 - val_loss: 0.8167 - val_accuracy: 0.8373\n",
      "1537/1537 - 3s - loss: 0.8334 - accuracy: 0.8327\n",
      "[0.8334130644798279, 0.8326789736747742]\n"
     ]
    }
   ],
   "source": [
    "# 모델학습하기\n",
    "CNN_model.compile(optimizer='adam',\n",
    "             loss='binary_crossentropy',\n",
    "             metrics=['accuracy'])\n",
    "epochs=10\n",
    "\n",
    "CNN_history = CNN_model.fit(partial_x_train,\n",
    "                   partial_y_train,\n",
    "                   epochs=epochs,\n",
    "                   batch_size=512,\n",
    "                   validation_data=(x_val, y_val),\n",
    "                   verbose=1)\n",
    "# 평가하기\n",
    "results = CNN_model.evaluate(x_test, y_test, verbose=2)\n",
    "\n",
    "print(results)"
   ]
  },
  {
   "cell_type": "code",
   "execution_count": 16,
   "id": "e0677af8",
   "metadata": {
    "scrolled": true
   },
   "outputs": [
    {
     "name": "stdout",
     "output_type": "stream",
     "text": [
      "Epoch 1/10\n",
      "247/247 [==============================] - 2s 6ms/step - loss: 0.4571 - accuracy: 0.8128 - val_loss: 0.3417 - val_accuracy: 0.8501\n",
      "Epoch 2/10\n",
      "247/247 [==============================] - 1s 5ms/step - loss: 0.3074 - accuracy: 0.8706 - val_loss: 0.3309 - val_accuracy: 0.8549\n",
      "Epoch 3/10\n",
      "247/247 [==============================] - 1s 5ms/step - loss: 0.2601 - accuracy: 0.8945 - val_loss: 0.3382 - val_accuracy: 0.8576\n",
      "Epoch 4/10\n",
      "247/247 [==============================] - 1s 5ms/step - loss: 0.2175 - accuracy: 0.9156 - val_loss: 0.3500 - val_accuracy: 0.8560\n",
      "Epoch 5/10\n",
      "247/247 [==============================] - 1s 5ms/step - loss: 0.1721 - accuracy: 0.9383 - val_loss: 0.3783 - val_accuracy: 0.8533\n",
      "Epoch 6/10\n",
      "247/247 [==============================] - 1s 5ms/step - loss: 0.1278 - accuracy: 0.9583 - val_loss: 0.4117 - val_accuracy: 0.8500\n",
      "Epoch 7/10\n",
      "247/247 [==============================] - 1s 5ms/step - loss: 0.0870 - accuracy: 0.9755 - val_loss: 0.4523 - val_accuracy: 0.8496\n",
      "Epoch 8/10\n",
      "247/247 [==============================] - 1s 5ms/step - loss: 0.0568 - accuracy: 0.9857 - val_loss: 0.5034 - val_accuracy: 0.8462\n",
      "Epoch 9/10\n",
      "247/247 [==============================] - 1s 5ms/step - loss: 0.0376 - accuracy: 0.9908 - val_loss: 0.5459 - val_accuracy: 0.8476\n",
      "Epoch 10/10\n",
      "247/247 [==============================] - 1s 5ms/step - loss: 0.0255 - accuracy: 0.9938 - val_loss: 0.5852 - val_accuracy: 0.8466\n",
      "1537/1537 - 2s - loss: 0.6017 - accuracy: 0.8438\n",
      "[0.6017409563064575, 0.843765914440155]\n"
     ]
    }
   ],
   "source": [
    "# 모델학습하기\n",
    "GMP_model.compile(optimizer='adam',\n",
    "             loss='binary_crossentropy',\n",
    "             metrics=['accuracy'])\n",
    "epochs=10\n",
    "\n",
    "GMP_history = GMP_model.fit(partial_x_train,\n",
    "                   partial_y_train,\n",
    "                   epochs=epochs,\n",
    "                   batch_size=512,\n",
    "                   validation_data=(x_val, y_val),\n",
    "                   verbose=1)\n",
    "# 평가하기\n",
    "results = GMP_model.evaluate(x_test, y_test, verbose=2)\n",
    "\n",
    "print(results)"
   ]
  },
  {
   "cell_type": "markdown",
   "id": "ba26484a",
   "metadata": {},
   "source": [
    "# Loss, Accuracy 그래프 시각화"
   ]
  },
  {
   "cell_type": "code",
   "execution_count": 17,
   "id": "30122a37",
   "metadata": {},
   "outputs": [
    {
     "name": "stdout",
     "output_type": "stream",
     "text": [
      "dict_keys(['loss', 'accuracy', 'val_loss', 'val_accuracy'])\n"
     ]
    },
    {
     "data": {
      "image/png": "[encoded data removed]",
      "text/plain": [
       "<Figure size 432x288 with 1 Axes>"
      ]
     },
     "metadata": {
      "needs_background": "light"
     },
     "output_type": "display_data"
    },
    {
     "data": {
      "image/png": "[encoded data removed]",
      "text/plain": [
       "<Figure size 432x288 with 1 Axes>"
      ]
     },
     "metadata": {
      "needs_background": "light"
     },
     "output_type": "display_data"
    }
   ],
   "source": [
    "import matplotlib.pyplot as plt\n",
    "history_dict = RNN_history.history\n",
    "print(history_dict.keys()) # epoch 에 따른 그래프를 그려볼 수 있는 항목들\n",
    "\n",
    "acc = history_dict['accuracy']\n",
    "val_acc = history_dict['val_accuracy']\n",
    "loss = history_dict['loss']\n",
    "val_loss = history_dict['val_loss']\n",
    "\n",
    "epochs = range(1, len(acc) + 1)\n",
    "\n",
    "# \"bo는 파란색 점입니다.\"\n",
    "plt.plot(epochs, loss, 'bo', label='Training loss')\n",
    "# b는 '파란 실선'입니다.\n",
    "plt.plot(epochs, val_loss, 'b', label='Validation loss')\n",
    "plt.title('Training and valication loss')\n",
    "plt.xlabel('Epochs')\n",
    "plt.ylabel('Loss')\n",
    "plt.legend()\n",
    "\n",
    "plt.show()\n",
    "\n",
    "plt.clf() # 그림 초기화하기\n",
    "\n",
    "plt.plot(epochs, acc, 'bo', label='Training acc')\n",
    "plt.plot(epochs, val_acc, 'b', label='Validation acc')\n",
    "plt.title('Training and validation accuracy')\n",
    "plt.xlabel('Epochs')\n",
    "plt.ylabel('Accuracy')\n",
    "plt.legend()\n",
    "\n",
    "plt.show()"
   ]
  },
  {
   "cell_type": "code",
   "execution_count": 18,
   "id": "8d4332cd",
   "metadata": {},
   "outputs": [
    {
     "name": "stdout",
     "output_type": "stream",
     "text": [
      "dict_keys(['loss', 'accuracy', 'val_loss', 'val_accuracy'])\n"
     ]
    },
    {
     "data": {
      "image/png": "[encoded data removed]",
      "text/plain": [
       "<Figure size 432x288 with 1 Axes>"
      ]
     },
     "metadata": {
      "needs_background": "light"
     },
     "output_type": "display_data"
    },
    {
     "data": {
      "image/png": "[encoded data removed]",
      "text/plain": [
       "<Figure size 432x288 with 1 Axes>"
      ]
     },
     "metadata": {
      "needs_background": "light"
     },
     "output_type": "display_data"
    }
   ],
   "source": [
    "history_dict = CNN_history.history\n",
    "print(history_dict.keys()) # epoch 에 따른 그래프를 그려볼 수 있는 항목들\n",
    "\n",
    "acc = history_dict['accuracy']\n",
    "val_acc = history_dict['val_accuracy']\n",
    "loss = history_dict['loss']\n",
    "val_loss = history_dict['val_loss']\n",
    "\n",
    "epochs = range(1, len(acc) + 1)\n",
    "\n",
    "# \"bo는 파란색 점입니다.\"\n",
    "plt.plot(epochs, loss, 'bo', label='Training loss')\n",
    "# b는 '파란 실선'입니다.\n",
    "plt.plot(epochs, val_loss, 'b', label='Validation loss')\n",
    "plt.title('Training and valication loss')\n",
    "plt.xlabel('Epochs')\n",
    "plt.ylabel('Loss')\n",
    "plt.legend()\n",
    "\n",
    "plt.show()\n",
    "\n",
    "plt.clf() # 그림 초기화하기\n",
    "\n",
    "plt.plot(epochs, acc, 'bo', label='Training acc')\n",
    "plt.plot(epochs, val_acc, 'b', label='Validation acc')\n",
    "plt.title('Training and validation accuracy')\n",
    "plt.xlabel('Epochs')\n",
    "plt.ylabel('Accuracy')\n",
    "plt.legend()\n",
    "\n",
    "plt.show()"
   ]
  },
  {
   "cell_type": "code",
   "execution_count": 19,
   "id": "1df8cfa7",
   "metadata": {},
   "outputs": [
    {
     "name": "stdout",
     "output_type": "stream",
     "text": [
      "dict_keys(['loss', 'accuracy', 'val_loss', 'val_accuracy'])\n"
     ]
    },
    {
     "data": {
      "image/png": "[encoded data removed]",
      "text/plain": [
       "<Figure size 432x288 with 1 Axes>"
      ]
     },
     "metadata": {
      "needs_background": "light"
     },
     "output_type": "display_data"
    },
    {
     "data": {
      "image/png": "[encoded data removed]",
      "text/plain": [
       "<Figure size 432x288 with 1 Axes>"
      ]
     },
     "metadata": {
      "needs_background": "light"
     },
     "output_type": "display_data"
    }
   ],
   "source": [
    "history_dict = GMP_history.history\n",
    "print(history_dict.keys()) # epoch 에 따른 그래프를 그려볼 수 있는 항목들\n",
    "\n",
    "acc = history_dict['accuracy']\n",
    "val_acc = history_dict['val_accuracy']\n",
    "loss = history_dict['loss']\n",
    "val_loss = history_dict['val_loss']\n",
    "\n",
    "epochs = range(1, len(acc) + 1)\n",
    "\n",
    "# \"bo는 파란색 점입니다.\"\n",
    "plt.plot(epochs, loss, 'bo', label='Training loss')\n",
    "# b는 '파란 실선'입니다.\n",
    "plt.plot(epochs, val_loss, 'b', label='Validation loss')\n",
    "plt.title('Training and valication loss')\n",
    "plt.xlabel('Epochs')\n",
    "plt.ylabel('Loss')\n",
    "plt.legend()\n",
    "\n",
    "plt.show()\n",
    "\n",
    "plt.clf() # 그림 초기화하기\n",
    "\n",
    "plt.plot(epochs, acc, 'bo', label='Training acc')\n",
    "plt.plot(epochs, val_acc, 'b', label='Validation acc')\n",
    "plt.title('Training and validation accuracy')\n",
    "plt.xlabel('Epochs')\n",
    "plt.ylabel('Accuracy')\n",
    "plt.legend()\n",
    "\n",
    "plt.show()"
   ]
  },
  {
   "cell_type": "markdown",
   "id": "8088eee9",
   "metadata": {},
   "source": [
    "# 학습된 Embedding 레이어 분석`"
   ]
  },
  {
   "cell_type": "code",
   "execution_count": 20,
   "id": "5d1ab608",
   "metadata": {},
   "outputs": [
    {
     "name": "stdout",
     "output_type": "stream",
     "text": [
      "gensim                        4.1.2\r\n"
     ]
    }
   ],
   "source": [
    "! mkdir -p ~/aiffel/sentiment_classification/data\n",
    "! pip list | grep gensim"
   ]
  },
  {
   "cell_type": "code",
   "execution_count": 22,
   "id": "d9f19f99",
   "metadata": {},
   "outputs": [
    {
     "name": "stdout",
     "output_type": "stream",
     "text": [
      "(10000, 300)\n"
     ]
    }
   ],
   "source": [
    "embedding_layer = CNN_model.layers[0]\n",
    "weights = embedding_layer.get_weights()[0]\n",
    "print(weights.shape)    # shape: (vocab_size, embedding_dim)"
   ]
  },
  {
   "cell_type": "code",
   "execution_count": 24,
   "id": "dc069b4f",
   "metadata": {},
   "outputs": [],
   "source": [
    "# 학습한 Embedding 파라미터를 파일에 써서 저장합니다. \n",
    "word2vec_file_path = os.getenv('HOME')+'/aiffel/sentiment_classification/data/word2vec.txt'\n",
    "f = open(word2vec_file_path, 'w')\n",
    "f.write('{} {}\\n'.format(vocab_size-4, word_vector_dim))  # 몇개의 벡터를 얼마 사이즈로 기재할지 타이틀을 씁니다.\n",
    "\n",
    "# 단어 개수(에서 특수문자 4개는 제외하고)만큼의 워드 벡터를 파일에 기록합니다. \n",
    "vectors = CNN_model.get_weights()[0]\n",
    "for i in range(4,vocab_size):\n",
    "    f.write('{} {}\\n'.format(index_to_word[i], ' '.join(map(str, list(vectors[i, :])))))\n",
    "f.close()"
   ]
  },
  {
   "cell_type": "code",
   "execution_count": 26,
   "id": "5fc77053",
   "metadata": {
    "scrolled": true
   },
   "outputs": [
    {
     "data": {
      "text/plain": [
       "array([ 8.64966065e-02,  5.01053361e-03,  1.65588129e-02, -6.98835496e-03,\n",
       "        6.19189143e-02,  2.30204482e-02,  1.32733816e-02,  8.94303694e-02,\n",
       "       -6.46450790e-03,  1.06457239e-02, -4.48079929e-02, -3.11975945e-02,\n",
       "       -8.53857249e-02, -7.75513425e-02, -1.80125479e-02, -7.73301795e-02,\n",
       "        1.29275545e-01, -9.05815661e-02, -3.74397822e-02,  9.43919367e-05,\n",
       "        6.78057894e-02, -2.66176625e-03, -7.56800994e-02, -1.05676558e-02,\n",
       "        4.60085496e-02,  1.70393963e-03,  1.20330609e-01,  7.43980035e-02,\n",
       "       -7.01060966e-02,  6.88448474e-02, -5.14654107e-02,  6.34651408e-02,\n",
       "        3.91494995e-03, -9.11617577e-02,  5.64749949e-02,  1.18167952e-01,\n",
       "        1.00902636e-02, -3.86013761e-02,  4.34973575e-02, -2.26098485e-02,\n",
       "        5.91085590e-02,  1.92695223e-02,  4.89138591e-04,  4.82969806e-02,\n",
       "       -1.56469315e-01, -2.88250986e-02, -1.81440618e-02,  7.54434317e-02,\n",
       "        4.73109782e-02, -2.22635437e-02,  9.17625576e-02, -8.45729653e-03,\n",
       "       -7.82406703e-02,  2.25374494e-02, -6.64872602e-02,  5.02629057e-02,\n",
       "       -7.01154955e-03,  6.10854756e-03, -3.17146368e-02,  8.94606858e-02,\n",
       "       -1.45936897e-02,  7.03928545e-02,  1.48870751e-01, -5.90636432e-02,\n",
       "        6.25779107e-02, -5.26890568e-02,  1.13835104e-01, -1.08537085e-01,\n",
       "        5.87338163e-03, -1.62948463e-02,  3.46809514e-02,  1.24692060e-01,\n",
       "       -4.32521813e-02,  1.39407784e-01, -3.31103541e-02, -1.20295798e-02,\n",
       "        1.55061722e-01, -6.84281513e-02, -1.70625020e-02,  1.43004924e-01,\n",
       "       -2.64138505e-02,  1.15837138e-02, -1.36487871e-01, -9.37826782e-02,\n",
       "       -7.57943019e-02, -3.32157537e-02,  6.98583648e-02, -4.30728383e-02,\n",
       "        3.33847702e-02, -7.45900869e-02,  5.68642877e-02,  4.38353531e-02,\n",
       "       -3.03697176e-02,  3.12166326e-02,  3.62907909e-02,  1.78940669e-02,\n",
       "        4.47931699e-02,  4.63157110e-02, -9.96691510e-02, -1.00560702e-01,\n",
       "       -3.80466618e-02,  4.50488254e-02,  1.80783421e-01,  6.28197119e-02,\n",
       "        1.14671431e-01, -1.33576259e-01,  1.22341411e-02, -2.20307540e-02,\n",
       "       -7.51468106e-05, -6.26039132e-02,  8.51354934e-03, -2.99629085e-02,\n",
       "        1.37336440e-02,  8.73265788e-03,  2.85916198e-02, -6.26045540e-02,\n",
       "       -1.30431233e-02, -1.63472161e-01,  5.68736307e-02,  2.67822668e-02,\n",
       "       -1.82285588e-02,  5.79049252e-03,  1.55824283e-02, -4.49547591e-03,\n",
       "       -2.00796034e-02,  3.98274809e-02, -1.25131756e-01, -1.18310163e-02,\n",
       "        4.04084101e-02, -4.35142666e-02,  1.14681656e-02, -1.50574772e-02,\n",
       "        1.21011958e-02,  8.40903670e-02,  3.57731581e-02, -1.98012125e-03,\n",
       "       -8.57320279e-02,  9.90265459e-02,  5.00620976e-02,  4.86835130e-02,\n",
       "       -1.07758977e-01, -3.78280245e-02, -6.71909153e-02, -1.83012206e-02,\n",
       "       -6.42065555e-02,  3.05372421e-02, -7.58537203e-02,  3.96477617e-02,\n",
       "        7.49307424e-02, -2.10008100e-02,  1.06880087e-02, -3.30901481e-02,\n",
       "        3.45107391e-02, -2.16840059e-02,  3.40557396e-02,  6.59392551e-02,\n",
       "        1.22891627e-02,  1.21607058e-01,  1.03350297e-01,  9.76506099e-02,\n",
       "       -2.41952594e-02,  8.38719681e-02,  3.86186391e-02,  5.84480166e-03,\n",
       "       -1.18511923e-01, -9.87705663e-02,  4.16949205e-03,  8.56083632e-02,\n",
       "       -6.81916345e-03, -5.73911406e-02,  5.25733903e-02,  2.38124542e-02,\n",
       "        6.71675950e-02, -4.14151438e-02,  3.19087580e-02,  1.84998792e-02,\n",
       "        1.77374226e-03, -3.51650752e-02, -1.00348644e-01, -3.45633388e-03,\n",
       "        2.32692086e-03, -4.25054692e-02,  7.17368349e-02,  2.29282439e-01,\n",
       "       -3.58003899e-02,  1.70370433e-02,  7.41225034e-02,  4.24154960e-02,\n",
       "        5.29414602e-03,  9.19184536e-02, -3.53939682e-02,  8.95744041e-02,\n",
       "       -8.73754770e-02, -1.47428438e-01,  2.74708327e-02, -1.59395374e-02,\n",
       "       -1.49918482e-01,  1.05890714e-01,  8.75187740e-02, -1.61279783e-01,\n",
       "        5.61261326e-02,  6.98744282e-02,  6.79593012e-02, -4.55708541e-02,\n",
       "       -2.68867500e-02, -6.48594797e-02,  1.85466856e-01, -6.81715831e-02,\n",
       "       -4.29368205e-02, -2.77548563e-02, -5.32502607e-02, -2.81086117e-02,\n",
       "       -1.29004210e-01, -4.88667786e-02,  7.66734406e-02,  6.82196617e-02,\n",
       "       -5.22857793e-02, -2.68326383e-02, -3.43729593e-02,  6.20912611e-02,\n",
       "        1.22864641e-01, -1.33422567e-02, -7.87656754e-02, -3.76293287e-02,\n",
       "        4.58898060e-02,  3.01349107e-02,  1.86446402e-02,  8.67633708e-03,\n",
       "        4.01360877e-02, -8.46881643e-02,  6.87494949e-02,  1.95958763e-01,\n",
       "       -1.61608085e-01, -7.70127447e-03, -6.04417510e-02, -1.74234807e-02,\n",
       "        8.85448530e-02,  1.01288758e-01, -4.26844917e-02,  7.12775514e-02,\n",
       "        3.66942883e-02, -7.13546872e-02,  1.16218822e-02,  1.11896135e-01,\n",
       "       -3.08385794e-03, -2.06033755e-02,  1.14503279e-01, -1.04223073e-01,\n",
       "       -8.21752995e-02, -1.04696356e-01,  4.05399390e-02,  3.72662861e-03,\n",
       "        2.14851345e-03,  6.18040711e-02, -4.38833423e-02,  2.76355892e-02,\n",
       "       -6.08915687e-02, -9.18636471e-03,  1.56215996e-01,  9.97987390e-02,\n",
       "       -1.01896450e-01,  5.72127989e-03, -3.00806249e-03,  5.30611314e-02,\n",
       "       -2.97632348e-02, -5.03430814e-02, -1.20954802e-02, -1.84984598e-02,\n",
       "        7.57424952e-03, -4.88629341e-02,  5.26365675e-02,  6.13448247e-02,\n",
       "        2.49730479e-02, -4.45964374e-02, -2.03915626e-01,  1.96474046e-03,\n",
       "        5.47447102e-03, -8.37328508e-02,  7.40104029e-03,  3.20543572e-02,\n",
       "       -4.73046564e-02, -9.66893211e-02,  8.13459791e-03,  2.21056975e-02,\n",
       "        6.06341660e-02,  4.46291342e-02, -2.67515704e-02, -1.60805807e-02,\n",
       "        2.37557590e-02, -1.01260982e-01, -2.81957556e-02, -6.33955151e-02,\n",
       "       -2.26621926e-02,  7.49448314e-02, -5.44879287e-02, -2.88224779e-02,\n",
       "       -9.01390705e-03,  2.30395654e-03, -2.84770094e-02, -1.22253679e-01],\n",
       "      dtype=float32)"
      ]
     },
     "execution_count": 26,
     "metadata": {},
     "output_type": "execute_result"
    }
   ],
   "source": [
    "# , 위에 남긴 임베딩 파라미터를 읽어서 word vector로 활용할 수 있습니다.\n",
    "from gensim.models.keyedvectors import Word2VecKeyedVectors\n",
    "\n",
    "word_vectors = Word2VecKeyedVectors.load_word2vec_format(word2vec_file_path, binary=False)\n",
    "vector = word_vectors['컴퓨터']\n",
    "vector"
   ]
  },
  {
   "cell_type": "code",
   "execution_count": 29,
   "id": "afe3bc94",
   "metadata": {
    "scrolled": true
   },
   "outputs": [
    {
     "data": {
      "text/plain": [
       "[('다녀온', 0.5676746368408203),\n",
       " ('아낌없', 0.5543385148048401),\n",
       " ('찡하', 0.5534965395927429),\n",
       " ('삭막', 0.5519180297851562),\n",
       " ('찡해', 0.5444169640541077),\n",
       " ('진진', 0.543106734752655),\n",
       " ('위트', 0.5394550561904907),\n",
       " ('감사', 0.5377295613288879),\n",
       " ('따듯', 0.5368250608444214),\n",
       " ('퍼센트', 0.5342167615890503)]"
      ]
     },
     "execution_count": 29,
     "metadata": {},
     "output_type": "execute_result"
    }
   ],
   "source": [
    "# 워드 벡터가 의미 벡터 공간상에 유의미하게 학습되었는지 확인하는 방법 중에, 단어를 하나 주고 그와 가장 유사한 단어와 그 유사도를 확인하는 방법이 있습니다.\n",
    "word_vectors.similar_by_word(\"사랑\")"
   ]
  },
  {
   "cell_type": "markdown",
   "id": "3612cd6f",
   "metadata": {},
   "source": [
    "# 한국어 Word2Vec 임베딩 활용하여 성능 개선"
   ]
  },
  {
   "cell_type": "code",
   "execution_count": null,
   "id": "37fd871c",
   "metadata": {},
   "outputs": [],
   "source": []
  }
 ],
 "metadata": {
  "kernelspec": {
   "display_name": "Python 3 (ipykernel)",
   "language": "python",
   "name": "python3"
  },
  "language_info": {
   "codemirror_mode": {
    "name": "ipython",
    "version": 3
   },
   "file_extension": ".py",
   "mimetype": "text/x-python",
   "name": "python",
   "nbconvert_exporter": "python",
   "pygments_lexer": "ipython3",
   "version": "3.9.7"
  }
 },
 "nbformat": 4,
 "nbformat_minor": 5
}
